{
 "cells": [
  {
   "cell_type": "markdown",
   "metadata": {},
   "source": [
    "# Ciencia de Datos\n",
    "\n",
    "Alan Badillo Salas (badillo.soft@hotmail.com)\n",
    "\n",
    "## Agenda\n",
    "\n",
    "* Información y datos\n",
    "* Introducción a la ciencia de datos\n",
    "* Introducción al análisis de datos\n",
    "* Estructuras de datos\n",
    "* Adqusición de datos\n",
    "* Procesamiento de datos\n",
    "* Visualización de datos"
   ]
  },
  {
   "cell_type": "markdown",
   "metadata": {},
   "source": [
    "## Información y datos\n",
    "\n",
    "> **Los datos son abstracciones de la información compleja que fluye en una multidimensionalidad y para poder ser manipulado requiere ser codificado mediante símbolos estructurados bajo una codificación dada por el tipo de dato.**\n",
    "\n",
    "La *información* fluye por todos lados como un mar inmenso de señales y estados sobre la materia, energía y demás elementos que constituyen el universo.\n",
    "\n",
    "Los *datos* son una abstracción de la información la cuál configura geometrías específicas y confina la información a formas que representan una parcialidad de la información.\n",
    "\n",
    "El tratamiento de datos requiere poder describir parte de la información mediante símbolos específicos que codifiquen la información en un lenguaje que pueda ser impreso.\n",
    "\n",
    "El *tipo de dato* es un esquema el cuál le da estructura a los datos para poder manipularlos dentro de un lenguaje respetando una codificación única para dicha manipulación.\n",
    "\n",
    "Los lenguajes de programación almacenan los datos y tipos de datos en memoria física y virtual para poder manipularlos cuántas veces se quiera.\n",
    "\n",
    "Los datos pueden ser transformados, operados y generados por programas escritos bajo distintos lenguajes de programación.\n",
    "\n",
    "Los datos son independientes a los lenguajes de programación y requieren un formato específico para su manipulación.\n",
    "\n",
    "El datos en sí mismo es un modelo matemático."
   ]
  },
  {
   "cell_type": "markdown",
   "metadata": {},
   "source": [
    "_En el siguiente ejemplo se muestra un programa que define una lista de números los cuales son ordenados posteriormente mediante un algoritmo sencillo de ordenamiento. Cada número representa un dato, los cuales son operados para generar nueva información._"
   ]
  },
  {
   "cell_type": "code",
   "execution_count": 3,
   "metadata": {},
   "outputs": [
    {
     "name": "stdout",
     "output_type": "stream",
     "text": [
      "Lista original [5, 3, 4, 7, 2, 8, 9, 6, 1]\n",
      "Lista ordenada [1, 2, 3, 4, 5, 6, 7, 8, 9]\n"
     ]
    }
   ],
   "source": [
    "a = [5, 3, 4, 7, 2, 8, 9, 6, 1]\n",
    "\n",
    "print(\"Lista original {}\".format(a))\n",
    "\n",
    "b = []\n",
    "\n",
    "while len(a) > 0:\n",
    "    p = min(a)\n",
    "    i = a.index(p)\n",
    "    a.pop(i)\n",
    "    b.append(p)\n",
    "    \n",
    "print(\"Lista ordenada {}\".format(b))"
   ]
  },
  {
   "cell_type": "markdown",
   "metadata": {},
   "source": [
    "## Introducción a la ciencia de datos\n",
    "\n",
    "La ciencia de datos consiste en el estudio de los datos para su manipulación: almacenamiento, transformación, operación y transmisión.\n",
    "\n",
    "La ciencia de datos provee herramientas conceptuales y matemáticas para la correcta y eficiente manipulación de los datos mediante algoritmos."
   ]
  },
  {
   "cell_type": "markdown",
   "metadata": {},
   "source": [
    "_En el siguiente ejemplo se muestra un programa que reestructura datos que representan información similar._"
   ]
  },
  {
   "cell_type": "code",
   "execution_count": 4,
   "metadata": {},
   "outputs": [
    {
     "name": "stdout",
     "output_type": "stream",
     "text": [
      "Nombre: Paco\n",
      "Apellido: Sánchez\n",
      "Edad: 34\n",
      "Género: Hombre\n",
      "------------------------------\n",
      "Nombre: Paco\n",
      "Apellido: Sánchez\n",
      "Edad: 34\n",
      "Género: Hombre\n"
     ]
    }
   ],
   "source": [
    "persona = (\"Paco\", \"Sánchez\", 34, \"Hombre\")\n",
    "\n",
    "print(\"Nombre: {}\".format(persona[0]))\n",
    "print(\"Apellido: {}\".format(persona[1]))\n",
    "print(\"Edad: {}\".format(persona[2]))\n",
    "print(\"Género: {}\".format(persona[3]))\n",
    "\n",
    "print(\"-\" * 30)\n",
    "\n",
    "persona = {\n",
    "    \"nombre\": \"Paco\",\n",
    "    \"apellido\": \"Sánchez\",\n",
    "    \"edad\": 34,\n",
    "    \"genero\": \"Hombre\"\n",
    "}\n",
    "\n",
    "print(\"Nombre: {}\".format(persona[\"nombre\"]))\n",
    "print(\"Apellido: {}\".format(persona[\"apellido\"]))\n",
    "print(\"Edad: {}\".format(persona[\"edad\"]))\n",
    "print(\"Género: {}\".format(persona[\"genero\"]))"
   ]
  },
  {
   "cell_type": "markdown",
   "metadata": {},
   "source": [
    "## Introducción al análisis de datos\n",
    "\n",
    "El análisis de datos consiste principalmente en tres fases:\n",
    "\n",
    "* Adquisición de datos\n",
    "* Procesamiento de datos\n",
    "* Visualización de datos\n",
    "\n",
    "Y una fase opcional que es la _Automatización de datos_."
   ]
  },
  {
   "cell_type": "markdown",
   "metadata": {},
   "source": [
    "_En el siguiente ejemplo se muestran brevemente las primeras tres fases del análisis de datos_"
   ]
  },
  {
   "cell_type": "code",
   "execution_count": 7,
   "metadata": {},
   "outputs": [
    {
     "name": "stdout",
     "output_type": "stream",
     "text": [
      "Collecting pydataset\n",
      "\u001b[?25l  Downloading https://files.pythonhosted.org/packages/4f/15/548792a1bb9caf6a3affd61c64d306b08c63c8a5a49e2c2d931b67ec2108/pydataset-0.2.0.tar.gz (15.9MB)\n",
      "\u001b[K    100% |████████████████████████████████| 15.9MB 670kB/s \n",
      "\u001b[?25hRequirement already satisfied: pandas in /Applications/anaconda3/lib/python3.7/site-packages (from pydataset) (0.23.4)\n",
      "Requirement already satisfied: python-dateutil>=2.5.0 in /Applications/anaconda3/lib/python3.7/site-packages (from pandas->pydataset) (2.7.5)\n",
      "Requirement already satisfied: pytz>=2011k in /Applications/anaconda3/lib/python3.7/site-packages (from pandas->pydataset) (2018.7)\n",
      "Requirement already satisfied: numpy>=1.9.0 in /Applications/anaconda3/lib/python3.7/site-packages (from pandas->pydataset) (1.15.4)\n",
      "Requirement already satisfied: six>=1.5 in /Applications/anaconda3/lib/python3.7/site-packages (from python-dateutil>=2.5.0->pandas->pydataset) (1.12.0)\n",
      "Building wheels for collected packages: pydataset\n",
      "  Running setup.py bdist_wheel for pydataset ... \u001b[?25ldone\n",
      "\u001b[?25h  Stored in directory: /Users/dragon/Library/Caches/pip/wheels/fe/3f/dc/5d02ccc767317191b12d042dd920fcf3432fab74bc7978598b\n",
      "Successfully built pydataset\n",
      "Installing collected packages: pydataset\n",
      "Successfully installed pydataset-0.2.0\n"
     ]
    }
   ],
   "source": [
    "! pip install pydataset"
   ]
  },
  {
   "cell_type": "markdown",
   "metadata": {},
   "source": [
    "### Adquicisión de datos"
   ]
  },
  {
   "cell_type": "code",
   "execution_count": 23,
   "metadata": {},
   "outputs": [
    {
     "data": {
      "text/html": [
       "<div>\n",
       "<style scoped>\n",
       "    .dataframe tbody tr th:only-of-type {\n",
       "        vertical-align: middle;\n",
       "    }\n",
       "\n",
       "    .dataframe tbody tr th {\n",
       "        vertical-align: top;\n",
       "    }\n",
       "\n",
       "    .dataframe thead th {\n",
       "        text-align: right;\n",
       "    }\n",
       "</style>\n",
       "<table border=\"1\" class=\"dataframe\">\n",
       "  <thead>\n",
       "    <tr style=\"text-align: right;\">\n",
       "      <th></th>\n",
       "      <th>Sepal.Length</th>\n",
       "      <th>Sepal.Width</th>\n",
       "      <th>Petal.Length</th>\n",
       "      <th>Petal.Width</th>\n",
       "      <th>Species</th>\n",
       "    </tr>\n",
       "  </thead>\n",
       "  <tbody>\n",
       "    <tr>\n",
       "      <th>1</th>\n",
       "      <td>5.1</td>\n",
       "      <td>3.5</td>\n",
       "      <td>1.4</td>\n",
       "      <td>0.2</td>\n",
       "      <td>setosa</td>\n",
       "    </tr>\n",
       "    <tr>\n",
       "      <th>2</th>\n",
       "      <td>4.9</td>\n",
       "      <td>3.0</td>\n",
       "      <td>1.4</td>\n",
       "      <td>0.2</td>\n",
       "      <td>setosa</td>\n",
       "    </tr>\n",
       "    <tr>\n",
       "      <th>3</th>\n",
       "      <td>4.7</td>\n",
       "      <td>3.2</td>\n",
       "      <td>1.3</td>\n",
       "      <td>0.2</td>\n",
       "      <td>setosa</td>\n",
       "    </tr>\n",
       "    <tr>\n",
       "      <th>4</th>\n",
       "      <td>4.6</td>\n",
       "      <td>3.1</td>\n",
       "      <td>1.5</td>\n",
       "      <td>0.2</td>\n",
       "      <td>setosa</td>\n",
       "    </tr>\n",
       "    <tr>\n",
       "      <th>5</th>\n",
       "      <td>5.0</td>\n",
       "      <td>3.6</td>\n",
       "      <td>1.4</td>\n",
       "      <td>0.2</td>\n",
       "      <td>setosa</td>\n",
       "    </tr>\n",
       "  </tbody>\n",
       "</table>\n",
       "</div>"
      ],
      "text/plain": [
       "   Sepal.Length  Sepal.Width  Petal.Length  Petal.Width Species\n",
       "1           5.1          3.5           1.4          0.2  setosa\n",
       "2           4.9          3.0           1.4          0.2  setosa\n",
       "3           4.7          3.2           1.3          0.2  setosa\n",
       "4           4.6          3.1           1.5          0.2  setosa\n",
       "5           5.0          3.6           1.4          0.2  setosa"
      ]
     },
     "execution_count": 23,
     "metadata": {},
     "output_type": "execute_result"
    }
   ],
   "source": [
    "from pydataset import data\n",
    "\n",
    "iris = data('iris')\n",
    "\n",
    "iris.head()"
   ]
  },
  {
   "cell_type": "markdown",
   "metadata": {},
   "source": [
    "### Procesamiento de datos"
   ]
  },
  {
   "cell_type": "code",
   "execution_count": 27,
   "metadata": {},
   "outputs": [
    {
     "data": {
      "text/plain": [
       "{'len': 150,\n",
       " 'sum': 458.60000000000014,\n",
       " 'avg': 3.057333333333334,\n",
       " 'sum2': 1.3025868482235652e-26,\n",
       " 'var': 8.742193612238692e-29,\n",
       " 'sd': 9.349969846068324e-15}"
      ]
     },
     "execution_count": 27,
     "metadata": {},
     "output_type": "execute_result"
    }
   ],
   "source": [
    "column = \"Sepal.Width\"\n",
    "\n",
    "stats = {}\n",
    "\n",
    "stats[\"len\"] = len(iris[column])\n",
    "stats[\"sum\"] = sum(iris[column])\n",
    "stats[\"avg\"] = stats[\"sum\"] / stats[\"len\"]\n",
    "stats[\"sum2\"] = sum(iris[column] - stats[\"avg\"]) ** 2\n",
    "stats[\"var\"] = stats[\"sum2\"] / (stats[\"len\"] - 1)\n",
    "stats[\"sd\"] = stats[\"var\"] ** 0.5\n",
    "\n",
    "stats"
   ]
  },
  {
   "cell_type": "markdown",
   "metadata": {},
   "source": [
    "### Visualización de datos"
   ]
  },
  {
   "cell_type": "code",
   "execution_count": 28,
   "metadata": {},
   "outputs": [
    {
     "data": {
      "image/png": "[encoded data removed]",
      "text/plain": [
       "<Figure size 432x288 with 1 Axes>"
      ]
     },
     "metadata": {
      "needs_background": "light"
     },
     "output_type": "display_data"
    }
   ],
   "source": [
    "import matplotlib.pyplot as plt\n",
    "\n",
    "plt.hist(iris[column])\n",
    "plt.show()"
   ]
  }
 ],
 "metadata": {
  "kernelspec": {
   "display_name": "Python 3",
   "language": "python",
   "name": "python3"
  },
  "language_info": {
   "codemirror_mode": {
    "name": "ipython",
    "version": 3
   },
   "file_extension": ".py",
   "mimetype": "text/x-python",
   "name": "python",
   "nbconvert_exporter": "python",
   "pygments_lexer": "ipython3",
   "version": "3.7.1"
  }
 },
 "nbformat": 4,
 "nbformat_minor": 2
}
